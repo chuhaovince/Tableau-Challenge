{
 "cells": [
  {
   "cell_type": "code",
   "execution_count": 1,
   "metadata": {},
   "outputs": [],
   "source": [
    "import pandas as pd\n",
    "import glob\n",
    "import numpy as np"
   ]
  },
  {
   "cell_type": "code",
   "execution_count": 11,
   "metadata": {},
   "outputs": [],
   "source": [
    "# Create a path list for all the files' paths\n",
    "path = r'C:\\Users\\chuha\\Documents\\DataBootCamp-Homework\\Tableau-Challenge\\CityBike_RawData\\year_2017_19' # use your path\n",
    "all_files = glob.glob(path + \"/*.csv\")\n",
    "\n",
    "# Create an empty list to store munipulated dataframe of each month of each year\n",
    "li = []\n",
    "\n",
    "# Concatenate all files together, rename all the columns in order to perform a perfect concatenation\n",
    "\n",
    "for filename in all_files:\n",
    "    df = pd.read_csv(filename)\n",
    "    if \"Trip Duration\" in df.columns:\n",
    "        df = df.rename(columns={\"Trip Duration\":\"tripduration\", \n",
    "                           \"Start Time\" : \"starttime\", \n",
    "                           \"Stop Time\" : \"stoptime\", \n",
    "                           \"Start Station ID\" : \"start station id\",\n",
    "                           \"Start Station Name\" : \"start station name\",\n",
    "                           \"Start Station Latitude\" : \"start station latitude\",\n",
    "                           \"Start Station Longitude\" : \"start station longitude\",\n",
    "                           \"End Station ID\" : \"end station id\",\n",
    "                           \"End Station Name\" : \"end station name\",\n",
    "                           \"End Station Latitude\" : \"end station latitude\",\n",
    "                           \"End Station Longitude\" : \"end station longitude\",\n",
    "                           \"Bike ID\" : \"bikeid\",\n",
    "                           \"User Type\" : \"usertype\",\n",
    "                           \"Birth Year\" : \"birth year\",\n",
    "                           \"Gender\" : \"gender\"\n",
    "                          })\n",
    "        #print(df.head())\n",
    "    else:\n",
    "        pass\n",
    "    # Append each dataframe to the list\n",
    "    li.append(df)\n",
    "\n",
    "# Union/concatenate\n",
    "frame = pd.concat(li, axis=0, ignore_index=True, sort=False)\n",
    "\n",
    "# Replace the gender code form 1,2,0 to Male, Female, and Unknown\n",
    "frame[\"gender\"].replace([1,2,0],[\"Male\", \"Female\", np.nan], inplace = True)\n",
    "\n",
    "# drop rows with NAN values so we have a clearner dataset\n",
    "frame.dropna(inplace=True)\n",
    "\n",
    "# Create the combined data with no index column\n",
    "frame.to_csv(\"Cleaned_data/Combined_data_17_19.csv\", index = False)"
   ]
  }
 ],
 "metadata": {
  "kernelspec": {
   "display_name": "Python 3",
   "language": "python",
   "name": "python3"
  },
  "language_info": {
   "codemirror_mode": {
    "name": "ipython",
    "version": 3
   },
   "file_extension": ".py",
   "mimetype": "text/x-python",
   "name": "python",
   "nbconvert_exporter": "python",
   "pygments_lexer": "ipython3",
   "version": "3.7.5"
  }
 },
 "nbformat": 4,
 "nbformat_minor": 2
}
